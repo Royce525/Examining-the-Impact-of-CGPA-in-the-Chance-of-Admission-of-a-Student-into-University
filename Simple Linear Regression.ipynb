{
 "cells": [
  {
   "cell_type": "markdown",
   "id": "5d921d29",
   "metadata": {},
   "source": [
    "## REGRESSION ANALYSIS - MDS232\n",
    "### CIA 1 - SIMPLE LINEAR REGRESSION\n",
    "*Submitted by Royce Rose K R, Reg no: 2248052*"
   ]
  },
  {
   "cell_type": "markdown",
   "id": "a53ccd71",
   "metadata": {},
   "source": [
    "### TO STUDY THE INFLUENCE OF *CGPA* IN THE *CHANCE OF ADMISSION* OF A STUDENT INTO THE UNIVERSITY"
   ]
  },
  {
   "cell_type": "markdown",
   "id": "be3fa713",
   "metadata": {},
   "source": [
    "\n",
    "#### DATA SET DESCRIPTION\n",
    "\n",
    "This dataset includes various information like GRE score, TOEFL score, university rating, SOP (Statement of Purpose), LOR (Letter of Recommendation), CGPA, research and chance of admit. In this dataset, 400 entries are included.\n",
    "\n",
    "GRE Scores ( out of 340 ),\n",
    "TOEFL Scores ( out of 120 ),\n",
    "University Rating ( out of 5 ),\n",
    "Statement of Purpose (SOP) and Letter of Recommendation (LOR) Strength ( out of 5 )\n",
    "Undergraduate GPA ( out of 10 ),\n",
    "Research Experience ( either 0 or 1 ),\n",
    "Chance of Admit ( ranging from 0 to 1 ).\n",
    "\n",
    "#### SOURCE: \n",
    "https://www.kaggle.com/datasets/akshaydattatraykhare/data-for-admission-in-the-university"
   ]
  },
  {
   "cell_type": "markdown",
   "id": "5715ecfb",
   "metadata": {},
   "source": [
    "### 1.Simple Linear Regression"
   ]
  },
  {
   "cell_type": "markdown",
   "id": "550c3550",
   "metadata": {},
   "source": [
    "It is a statistical method that helps us to summarize and study the relationship between a dependent and an independent variable. The independent variable is the data which can controlled directly whereas the dependent variable cannot be controlled directly. "
   ]
  },
  {
   "cell_type": "markdown",
   "id": "b787f774",
   "metadata": {},
   "source": [
    "### 2.Objective\n",
    "\n",
    "To study the extent to which CGPA influences the chance of admission of a student into the particular university. Here, the dependent variable considered is *Chance of Admission* and the independent variable is *CGPA*."
   ]
  },
  {
   "cell_type": "markdown",
   "id": "80deacda",
   "metadata": {},
   "source": [
    "### 3.Data Preparation"
   ]
  },
  {
   "cell_type": "markdown",
   "id": "6da1f5c5",
   "metadata": {},
   "source": [
    "#### 3.1.Importing Data"
   ]
  },
  {
   "cell_type": "code",
   "execution_count": 11,
   "id": "58b433b8",
   "metadata": {},
   "outputs": [],
   "source": [
    "'''Here we are importing the necessary libraries such as numpy and pandas to manipulate the data\n",
    "   Where matplotlib and seaborm are used in visualization.\n",
    "'''\n",
    "import pandas as pd \n",
    "import numpy as np\n",
    "import matplotlib.pyplot as plt\n",
    "import seaborn as sns\n",
    "from scipy.stats import shapiro"
   ]
  },
  {
   "cell_type": "code",
   "execution_count": 2,
   "id": "930a4595",
   "metadata": {},
   "outputs": [],
   "source": [
    "#Here we are importing the data using pandas.\n",
    "\n",
    "data = pd.read_csv(\"E:\\\\SEMESTER 2\\\\DATA\\\\adm_data.csv\")"
   ]
  },
  {
   "cell_type": "code",
   "execution_count": 3,
   "id": "2e525d86",
   "metadata": {},
   "outputs": [
    {
     "data": {
      "text/html": [
       "<div>\n",
       "<style scoped>\n",
       "    .dataframe tbody tr th:only-of-type {\n",
       "        vertical-align: middle;\n",
       "    }\n",
       "\n",
       "    .dataframe tbody tr th {\n",
       "        vertical-align: top;\n",
       "    }\n",
       "\n",
       "    .dataframe thead th {\n",
       "        text-align: right;\n",
       "    }\n",
       "</style>\n",
       "<table border=\"1\" class=\"dataframe\">\n",
       "  <thead>\n",
       "    <tr style=\"text-align: right;\">\n",
       "      <th></th>\n",
       "      <th>Serial No.</th>\n",
       "      <th>GRE Score</th>\n",
       "      <th>TOEFL Score</th>\n",
       "      <th>University Rating</th>\n",
       "      <th>SOP</th>\n",
       "      <th>LOR</th>\n",
       "      <th>CGPA</th>\n",
       "      <th>Research</th>\n",
       "      <th>ChanceofAdmit</th>\n",
       "    </tr>\n",
       "  </thead>\n",
       "  <tbody>\n",
       "    <tr>\n",
       "      <th>0</th>\n",
       "      <td>1</td>\n",
       "      <td>337</td>\n",
       "      <td>118</td>\n",
       "      <td>4</td>\n",
       "      <td>4.5</td>\n",
       "      <td>4.5</td>\n",
       "      <td>9.65</td>\n",
       "      <td>1</td>\n",
       "      <td>0.92</td>\n",
       "    </tr>\n",
       "    <tr>\n",
       "      <th>1</th>\n",
       "      <td>2</td>\n",
       "      <td>324</td>\n",
       "      <td>107</td>\n",
       "      <td>4</td>\n",
       "      <td>4.0</td>\n",
       "      <td>4.5</td>\n",
       "      <td>8.87</td>\n",
       "      <td>1</td>\n",
       "      <td>0.76</td>\n",
       "    </tr>\n",
       "    <tr>\n",
       "      <th>2</th>\n",
       "      <td>3</td>\n",
       "      <td>316</td>\n",
       "      <td>104</td>\n",
       "      <td>3</td>\n",
       "      <td>3.0</td>\n",
       "      <td>3.5</td>\n",
       "      <td>8.00</td>\n",
       "      <td>1</td>\n",
       "      <td>0.72</td>\n",
       "    </tr>\n",
       "    <tr>\n",
       "      <th>3</th>\n",
       "      <td>4</td>\n",
       "      <td>322</td>\n",
       "      <td>110</td>\n",
       "      <td>3</td>\n",
       "      <td>3.5</td>\n",
       "      <td>2.5</td>\n",
       "      <td>8.67</td>\n",
       "      <td>1</td>\n",
       "      <td>0.80</td>\n",
       "    </tr>\n",
       "    <tr>\n",
       "      <th>4</th>\n",
       "      <td>5</td>\n",
       "      <td>314</td>\n",
       "      <td>103</td>\n",
       "      <td>2</td>\n",
       "      <td>2.0</td>\n",
       "      <td>3.0</td>\n",
       "      <td>8.21</td>\n",
       "      <td>0</td>\n",
       "      <td>0.65</td>\n",
       "    </tr>\n",
       "    <tr>\n",
       "      <th>...</th>\n",
       "      <td>...</td>\n",
       "      <td>...</td>\n",
       "      <td>...</td>\n",
       "      <td>...</td>\n",
       "      <td>...</td>\n",
       "      <td>...</td>\n",
       "      <td>...</td>\n",
       "      <td>...</td>\n",
       "      <td>...</td>\n",
       "    </tr>\n",
       "    <tr>\n",
       "      <th>395</th>\n",
       "      <td>396</td>\n",
       "      <td>324</td>\n",
       "      <td>110</td>\n",
       "      <td>3</td>\n",
       "      <td>3.5</td>\n",
       "      <td>3.5</td>\n",
       "      <td>9.04</td>\n",
       "      <td>1</td>\n",
       "      <td>0.82</td>\n",
       "    </tr>\n",
       "    <tr>\n",
       "      <th>396</th>\n",
       "      <td>397</td>\n",
       "      <td>325</td>\n",
       "      <td>107</td>\n",
       "      <td>3</td>\n",
       "      <td>3.0</td>\n",
       "      <td>3.5</td>\n",
       "      <td>9.11</td>\n",
       "      <td>1</td>\n",
       "      <td>0.84</td>\n",
       "    </tr>\n",
       "    <tr>\n",
       "      <th>397</th>\n",
       "      <td>398</td>\n",
       "      <td>330</td>\n",
       "      <td>116</td>\n",
       "      <td>4</td>\n",
       "      <td>5.0</td>\n",
       "      <td>4.5</td>\n",
       "      <td>9.45</td>\n",
       "      <td>1</td>\n",
       "      <td>0.91</td>\n",
       "    </tr>\n",
       "    <tr>\n",
       "      <th>398</th>\n",
       "      <td>399</td>\n",
       "      <td>312</td>\n",
       "      <td>103</td>\n",
       "      <td>3</td>\n",
       "      <td>3.5</td>\n",
       "      <td>4.0</td>\n",
       "      <td>8.78</td>\n",
       "      <td>0</td>\n",
       "      <td>0.67</td>\n",
       "    </tr>\n",
       "    <tr>\n",
       "      <th>399</th>\n",
       "      <td>400</td>\n",
       "      <td>333</td>\n",
       "      <td>117</td>\n",
       "      <td>4</td>\n",
       "      <td>5.0</td>\n",
       "      <td>4.0</td>\n",
       "      <td>9.66</td>\n",
       "      <td>1</td>\n",
       "      <td>0.95</td>\n",
       "    </tr>\n",
       "  </tbody>\n",
       "</table>\n",
       "<p>400 rows × 9 columns</p>\n",
       "</div>"
      ],
      "text/plain": [
       "     Serial No.  GRE Score  TOEFL Score  University Rating  SOP  LOR   CGPA  \\\n",
       "0             1        337          118                  4  4.5   4.5  9.65   \n",
       "1             2        324          107                  4  4.0   4.5  8.87   \n",
       "2             3        316          104                  3  3.0   3.5  8.00   \n",
       "3             4        322          110                  3  3.5   2.5  8.67   \n",
       "4             5        314          103                  2  2.0   3.0  8.21   \n",
       "..          ...        ...          ...                ...  ...   ...   ...   \n",
       "395         396        324          110                  3  3.5   3.5  9.04   \n",
       "396         397        325          107                  3  3.0   3.5  9.11   \n",
       "397         398        330          116                  4  5.0   4.5  9.45   \n",
       "398         399        312          103                  3  3.5   4.0  8.78   \n",
       "399         400        333          117                  4  5.0   4.0  9.66   \n",
       "\n",
       "     Research  ChanceofAdmit   \n",
       "0           1            0.92  \n",
       "1           1            0.76  \n",
       "2           1            0.72  \n",
       "3           1            0.80  \n",
       "4           0            0.65  \n",
       "..        ...             ...  \n",
       "395         1            0.82  \n",
       "396         1            0.84  \n",
       "397         1            0.91  \n",
       "398         0            0.67  \n",
       "399         1            0.95  \n",
       "\n",
       "[400 rows x 9 columns]"
      ]
     },
     "execution_count": 3,
     "metadata": {},
     "output_type": "execute_result"
    }
   ],
   "source": [
    "# Here we are viewing the data set.\n",
    "data "
   ]
  },
  {
   "cell_type": "code",
   "execution_count": 4,
   "id": "4598b5e4",
   "metadata": {},
   "outputs": [
    {
     "data": {
      "text/plain": [
       "(400, 9)"
      ]
     },
     "execution_count": 4,
     "metadata": {},
     "output_type": "execute_result"
    }
   ],
   "source": [
    "# Here, the dimension of the data can be viewed\n",
    "data.shape"
   ]
  },
  {
   "cell_type": "code",
   "execution_count": 5,
   "id": "1d2a5b05",
   "metadata": {},
   "outputs": [
    {
     "name": "stdout",
     "output_type": "stream",
     "text": [
      "<class 'pandas.core.frame.DataFrame'>\n",
      "RangeIndex: 400 entries, 0 to 399\n",
      "Data columns (total 9 columns):\n",
      " #   Column             Non-Null Count  Dtype  \n",
      "---  ------             --------------  -----  \n",
      " 0   Serial No.         400 non-null    int64  \n",
      " 1   GRE Score          400 non-null    int64  \n",
      " 2   TOEFL Score        400 non-null    int64  \n",
      " 3   University Rating  400 non-null    int64  \n",
      " 4   SOP                400 non-null    float64\n",
      " 5   LOR                400 non-null    float64\n",
      " 6   CGPA               400 non-null    float64\n",
      " 7   Research           400 non-null    int64  \n",
      " 8   ChanceofAdmit      400 non-null    float64\n",
      "dtypes: float64(4), int64(5)\n",
      "memory usage: 28.2 KB\n"
     ]
    }
   ],
   "source": [
    "data.info()"
   ]
  },
  {
   "cell_type": "markdown",
   "id": "d2590470",
   "metadata": {},
   "source": [
    "Using *info()* function, we can get all the information of the data set. We can see that the data we got is of mainly two types int64 and float64. And we can also see that there is no *Null* values in the data set."
   ]
  },
  {
   "cell_type": "code",
   "execution_count": 6,
   "id": "e893af3a",
   "metadata": {
    "scrolled": true
   },
   "outputs": [
    {
     "data": {
      "text/html": [
       "<div>\n",
       "<style scoped>\n",
       "    .dataframe tbody tr th:only-of-type {\n",
       "        vertical-align: middle;\n",
       "    }\n",
       "\n",
       "    .dataframe tbody tr th {\n",
       "        vertical-align: top;\n",
       "    }\n",
       "\n",
       "    .dataframe thead th {\n",
       "        text-align: right;\n",
       "    }\n",
       "</style>\n",
       "<table border=\"1\" class=\"dataframe\">\n",
       "  <thead>\n",
       "    <tr style=\"text-align: right;\">\n",
       "      <th></th>\n",
       "      <th>Serial No.</th>\n",
       "      <th>GRE Score</th>\n",
       "      <th>TOEFL Score</th>\n",
       "      <th>University Rating</th>\n",
       "      <th>SOP</th>\n",
       "      <th>LOR</th>\n",
       "      <th>CGPA</th>\n",
       "      <th>Research</th>\n",
       "      <th>ChanceofAdmit</th>\n",
       "    </tr>\n",
       "  </thead>\n",
       "  <tbody>\n",
       "    <tr>\n",
       "      <th>count</th>\n",
       "      <td>400.000000</td>\n",
       "      <td>400.000000</td>\n",
       "      <td>400.000000</td>\n",
       "      <td>400.000000</td>\n",
       "      <td>400.000000</td>\n",
       "      <td>400.000000</td>\n",
       "      <td>400.000000</td>\n",
       "      <td>400.000000</td>\n",
       "      <td>400.000000</td>\n",
       "    </tr>\n",
       "    <tr>\n",
       "      <th>mean</th>\n",
       "      <td>200.500000</td>\n",
       "      <td>316.807500</td>\n",
       "      <td>107.410000</td>\n",
       "      <td>3.087500</td>\n",
       "      <td>3.400000</td>\n",
       "      <td>3.452500</td>\n",
       "      <td>8.598925</td>\n",
       "      <td>0.547500</td>\n",
       "      <td>0.724350</td>\n",
       "    </tr>\n",
       "    <tr>\n",
       "      <th>std</th>\n",
       "      <td>115.614301</td>\n",
       "      <td>11.473646</td>\n",
       "      <td>6.069514</td>\n",
       "      <td>1.143728</td>\n",
       "      <td>1.006869</td>\n",
       "      <td>0.898478</td>\n",
       "      <td>0.596317</td>\n",
       "      <td>0.498362</td>\n",
       "      <td>0.142609</td>\n",
       "    </tr>\n",
       "    <tr>\n",
       "      <th>min</th>\n",
       "      <td>1.000000</td>\n",
       "      <td>290.000000</td>\n",
       "      <td>92.000000</td>\n",
       "      <td>1.000000</td>\n",
       "      <td>1.000000</td>\n",
       "      <td>1.000000</td>\n",
       "      <td>6.800000</td>\n",
       "      <td>0.000000</td>\n",
       "      <td>0.340000</td>\n",
       "    </tr>\n",
       "    <tr>\n",
       "      <th>25%</th>\n",
       "      <td>100.750000</td>\n",
       "      <td>308.000000</td>\n",
       "      <td>103.000000</td>\n",
       "      <td>2.000000</td>\n",
       "      <td>2.500000</td>\n",
       "      <td>3.000000</td>\n",
       "      <td>8.170000</td>\n",
       "      <td>0.000000</td>\n",
       "      <td>0.640000</td>\n",
       "    </tr>\n",
       "    <tr>\n",
       "      <th>50%</th>\n",
       "      <td>200.500000</td>\n",
       "      <td>317.000000</td>\n",
       "      <td>107.000000</td>\n",
       "      <td>3.000000</td>\n",
       "      <td>3.500000</td>\n",
       "      <td>3.500000</td>\n",
       "      <td>8.610000</td>\n",
       "      <td>1.000000</td>\n",
       "      <td>0.730000</td>\n",
       "    </tr>\n",
       "    <tr>\n",
       "      <th>75%</th>\n",
       "      <td>300.250000</td>\n",
       "      <td>325.000000</td>\n",
       "      <td>112.000000</td>\n",
       "      <td>4.000000</td>\n",
       "      <td>4.000000</td>\n",
       "      <td>4.000000</td>\n",
       "      <td>9.062500</td>\n",
       "      <td>1.000000</td>\n",
       "      <td>0.830000</td>\n",
       "    </tr>\n",
       "    <tr>\n",
       "      <th>max</th>\n",
       "      <td>400.000000</td>\n",
       "      <td>340.000000</td>\n",
       "      <td>120.000000</td>\n",
       "      <td>5.000000</td>\n",
       "      <td>5.000000</td>\n",
       "      <td>5.000000</td>\n",
       "      <td>9.920000</td>\n",
       "      <td>1.000000</td>\n",
       "      <td>0.970000</td>\n",
       "    </tr>\n",
       "  </tbody>\n",
       "</table>\n",
       "</div>"
      ],
      "text/plain": [
       "       Serial No.   GRE Score  TOEFL Score  University Rating         SOP  \\\n",
       "count  400.000000  400.000000   400.000000         400.000000  400.000000   \n",
       "mean   200.500000  316.807500   107.410000           3.087500    3.400000   \n",
       "std    115.614301   11.473646     6.069514           1.143728    1.006869   \n",
       "min      1.000000  290.000000    92.000000           1.000000    1.000000   \n",
       "25%    100.750000  308.000000   103.000000           2.000000    2.500000   \n",
       "50%    200.500000  317.000000   107.000000           3.000000    3.500000   \n",
       "75%    300.250000  325.000000   112.000000           4.000000    4.000000   \n",
       "max    400.000000  340.000000   120.000000           5.000000    5.000000   \n",
       "\n",
       "             LOR         CGPA    Research  ChanceofAdmit   \n",
       "count  400.000000  400.000000  400.000000      400.000000  \n",
       "mean     3.452500    8.598925    0.547500        0.724350  \n",
       "std      0.898478    0.596317    0.498362        0.142609  \n",
       "min      1.000000    6.800000    0.000000        0.340000  \n",
       "25%      3.000000    8.170000    0.000000        0.640000  \n",
       "50%      3.500000    8.610000    1.000000        0.730000  \n",
       "75%      4.000000    9.062500    1.000000        0.830000  \n",
       "max      5.000000    9.920000    1.000000        0.970000  "
      ]
     },
     "execution_count": 6,
     "metadata": {},
     "output_type": "execute_result"
    }
   ],
   "source": [
    "data.describe()"
   ]
  },
  {
   "cell_type": "markdown",
   "id": "41b07112",
   "metadata": {},
   "source": [
    "The descriptive measures of the data set is obtained using *describe()* function."
   ]
  },
  {
   "cell_type": "code",
   "execution_count": 7,
   "id": "2e5329ec",
   "metadata": {
    "scrolled": true
   },
   "outputs": [
    {
     "data": {
      "text/plain": [
       "<AxesSubplot:>"
      ]
     },
     "execution_count": 7,
     "metadata": {},
     "output_type": "execute_result"
    },
    {
     "data": {
      "image/png": "[encoded data removed]",
      "text/plain": [
       "<Figure size 2160x864 with 2 Axes>"
      ]
     },
     "metadata": {
      "needs_background": "light"
     },
     "output_type": "display_data"
    }
   ],
   "source": [
    "## Plotting correaltion matrix\n",
    "\n",
    "corr_mat=data.corr()\n",
    "mask=np.array(corr_mat)\n",
    "fig=plt.gcf()\n",
    "fig.set_size_inches(30,12)\n",
    "sns.heatmap(data=corr_mat,annot=True,cbar=True,square=True)"
   ]
  },
  {
   "cell_type": "markdown",
   "id": "c2cdbf6b",
   "metadata": {},
   "source": [
    "From the correlation matrix we can see the correlation between various variables of the data set. Here, we can see that there is a postive correlation between the *CGPA* and *Chance of Admission*.\n",
    "\n",
    "Therefore, we are trying to built a simple linear regression model by taking *CGPA* as the independent variable and *Chance of Admission* as the dependent variable.\n"
   ]
  },
  {
   "cell_type": "code",
   "execution_count": 8,
   "id": "a2883e2f",
   "metadata": {},
   "outputs": [],
   "source": [
    "# Here, we are extracting the CGPA from the data set- independent variable\n",
    "x = data['CGPA']\n",
    "\n",
    "#Here, we are converting the data type of CGPA into float so as to avoid further complications\n",
    "X = x.astype('float64')"
   ]
  },
  {
   "cell_type": "code",
   "execution_count": 9,
   "id": "5fb6a4a8",
   "metadata": {},
   "outputs": [],
   "source": [
    "# Here, we are extracting the chance of admission from the data set using the iloc function - dependent variable\n",
    "Y = data.iloc[:,8]"
   ]
  },
  {
   "cell_type": "markdown",
   "id": "957438ae",
   "metadata": {},
   "source": [
    "#### 3.2.Exploratory Data Analysis\n",
    "\n",
    "EDA is performed so as it helps to analyze the data before coming into assumption. It helps in the identification of errors and understanding the data set in a better way."
   ]
  },
  {
   "cell_type": "code",
   "execution_count": 45,
   "id": "53adbfb1",
   "metadata": {},
   "outputs": [],
   "source": [
    "#importing the warnings library so as to avoid warnings\n",
    "import warnings\n",
    "warnings.simplefilter(\"ignore\")"
   ]
  },
  {
   "cell_type": "code",
   "execution_count": 46,
   "id": "0034e493",
   "metadata": {
    "scrolled": false
   },
   "outputs": [
    {
     "data": {
      "image/png": "[encoded data removed]",
      "text/plain": [
       "<Figure size 842.4x595.44 with 1 Axes>"
      ]
     },
     "metadata": {},
     "output_type": "display_data"
    }
   ],
   "source": [
    "#Plotting the distribution of independent variable- CGPA\n",
    "\n",
    "sns.set(rc={'figure.figsize':(11.7,8.27)})\n",
    "sns.distplot(X, bins=30)\n",
    "plt.show()"
   ]
  },
  {
   "cell_type": "code",
   "execution_count": null,
   "id": "a4888a18",
   "metadata": {},
   "outputs": [],
   "source": []
  },
  {
   "cell_type": "code",
   "execution_count": 47,
   "id": "a5428204",
   "metadata": {},
   "outputs": [
    {
     "data": {
      "text/plain": [
       "-0.06599054377889167"
      ]
     },
     "execution_count": 47,
     "metadata": {},
     "output_type": "execute_result"
    }
   ],
   "source": [
    "#Measuring the skewness\n",
    "X.skew()"
   ]
  },
  {
   "cell_type": "code",
   "execution_count": 48,
   "id": "871bde08",
   "metadata": {},
   "outputs": [
    {
     "data": {
      "text/plain": [
       "8.598924999999998"
      ]
     },
     "execution_count": 48,
     "metadata": {},
     "output_type": "execute_result"
    }
   ],
   "source": [
    "#Taking the mean\n",
    "X.mean()"
   ]
  },
  {
   "cell_type": "code",
   "execution_count": 49,
   "id": "846fb89b",
   "metadata": {},
   "outputs": [
    {
     "data": {
      "text/plain": [
       "8.61"
      ]
     },
     "execution_count": 49,
     "metadata": {},
     "output_type": "execute_result"
    }
   ],
   "source": [
    "#Taking the median\n",
    "X.median()"
   ]
  },
  {
   "cell_type": "markdown",
   "id": "c719f88f",
   "metadata": {},
   "source": [
    "As we can see that Mean < Median, the independent variable has a distribution which is left-skewed with a skewness of -0.065. Since the skewness is very small, ~0, a distribution plot shows an almost normal distribution."
   ]
  },
  {
   "cell_type": "code",
   "execution_count": 50,
   "id": "42b3f9e9",
   "metadata": {
    "scrolled": true
   },
   "outputs": [
    {
     "data": {
      "image/png": "[encoded data removed]",
      "text/plain": [
       "<Figure size 842.4x595.44 with 1 Axes>"
      ]
     },
     "metadata": {},
     "output_type": "display_data"
    }
   ],
   "source": [
    "#Plotting the distribution of dependent variable- Chance of Admission\n",
    "\n",
    "sns.set(rc={'figure.figsize':(11.7,8.27)})\n",
    "sns.distplot(Y, bins=30)\n",
    "plt.show()"
   ]
  },
  {
   "cell_type": "code",
   "execution_count": 51,
   "id": "fbd945d4",
   "metadata": {},
   "outputs": [
    {
     "data": {
      "text/plain": [
       "-0.3534480999327828"
      ]
     },
     "execution_count": 51,
     "metadata": {},
     "output_type": "execute_result"
    }
   ],
   "source": [
    "#Measuring the skewness\n",
    "Y.skew()"
   ]
  },
  {
   "cell_type": "code",
   "execution_count": 52,
   "id": "a3ac4f2f",
   "metadata": {},
   "outputs": [
    {
     "data": {
      "text/plain": [
       "0.7243499999999996"
      ]
     },
     "execution_count": 52,
     "metadata": {},
     "output_type": "execute_result"
    }
   ],
   "source": [
    "#Taking the mean\n",
    "Y.mean()"
   ]
  },
  {
   "cell_type": "code",
   "execution_count": 53,
   "id": "fc2eec9c",
   "metadata": {},
   "outputs": [
    {
     "data": {
      "text/plain": [
       "0.73"
      ]
     },
     "execution_count": 53,
     "metadata": {},
     "output_type": "execute_result"
    }
   ],
   "source": [
    "#Taking the median\n",
    "Y.median()"
   ]
  },
  {
   "cell_type": "markdown",
   "id": "9862c58b",
   "metadata": {},
   "source": [
    "As we can see that Mean < Median, the dependent variable has a distribution which is left-skewed with a skewness of -0.35. Since the skewness is very small, ~0, a distribution plot shows an almost normal distribution"
   ]
  },
  {
   "cell_type": "code",
   "execution_count": 54,
   "id": "0437e996",
   "metadata": {},
   "outputs": [
    {
     "data": {
      "text/plain": [
       "Text(0.5, 1.0, 'Scatter Plot')"
      ]
     },
     "execution_count": 54,
     "metadata": {},
     "output_type": "execute_result"
    },
    {
     "data": {
      "image/png": "[encoded data removed]",
      "text/plain": [
       "<Figure size 842.4x595.44 with 1 Axes>"
      ]
     },
     "metadata": {},
     "output_type": "display_data"
    }
   ],
   "source": [
    "# Plotting the scatter plot\n",
    "\n",
    "plt.scatter(X,Y, marker ='o')\n",
    "plt.xlabel('CGPA')\n",
    "plt.ylabel('Chance of admission')\n",
    "plt.title('Scatter Plot')"
   ]
  },
  {
   "cell_type": "markdown",
   "id": "fbff77e3",
   "metadata": {},
   "source": [
    "Here, we can see that the data points are almost linear in nature. And there exists a positive correlation between the variables as stated earlier."
   ]
  },
  {
   "cell_type": "code",
   "execution_count": 55,
   "id": "bcfcc4db",
   "metadata": {
    "scrolled": true
   },
   "outputs": [
    {
     "data": {
      "text/plain": [
       "<AxesSubplot:xlabel='CGPA'>"
      ]
     },
     "execution_count": 55,
     "metadata": {},
     "output_type": "execute_result"
    },
    {
     "data": {
      "image/png": "[encoded data removed]",
      "text/plain": [
       "<Figure size 842.4x595.44 with 1 Axes>"
      ]
     },
     "metadata": {},
     "output_type": "display_data"
    }
   ],
   "source": [
    "#Plotting the boxplot \n",
    "\n",
    "#The boxplot corresponds to the independent variable-CGPA\n",
    "sns.boxplot(X)"
   ]
  },
  {
   "cell_type": "markdown",
   "id": "ae4c2e0f",
   "metadata": {},
   "source": [
    "Here, we can see that there is an exisitence of a single outlier. This point corresponds to the lowest *CGPA* score."
   ]
  },
  {
   "cell_type": "code",
   "execution_count": 56,
   "id": "3f88b30f",
   "metadata": {
    "scrolled": true
   },
   "outputs": [
    {
     "data": {
      "text/plain": [
       "<AxesSubplot:xlabel='ChanceofAdmit '>"
      ]
     },
     "execution_count": 56,
     "metadata": {},
     "output_type": "execute_result"
    },
    {
     "data": {
      "image/png": "[encoded data removed]",
      "text/plain": [
       "<Figure size 842.4x595.44 with 1 Axes>"
      ]
     },
     "metadata": {},
     "output_type": "display_data"
    }
   ],
   "source": [
    "#The boxplot corresponds to the dependent variable - chance of admission\n",
    "sns.boxplot(Y)"
   ]
  },
  {
   "cell_type": "markdown",
   "id": "71c22b5d",
   "metadata": {},
   "source": [
    "Here, we can see that there is an exisitence of single outlier. This point corresponds to the lowest *Chance of admission*.\n",
    "\n",
    "Since, the outliers are minimum; its less likely to affect the model."
   ]
  },
  {
   "cell_type": "markdown",
   "id": "ae285c64",
   "metadata": {},
   "source": [
    "#### 3.2.Creating train and test data\n",
    "\n",
    "Here, we are splitting the data into the training and testing data sets. We split the data set such as 80% of the data is used in training the model and the rest 20% is hidden from the model, for testing the model."
   ]
  },
  {
   "cell_type": "code",
   "execution_count": 57,
   "id": "10dd82a4",
   "metadata": {
    "scrolled": true
   },
   "outputs": [],
   "source": [
    "from sklearn.model_selection import train_test_split\n",
    "x_train,x_test,y_train,y_test=train_test_split(X, Y, train_size = 0.8,test_size= 0.2, random_state = 10)#random_state=np.random can be used for making␣,random sets"
   ]
  },
  {
   "cell_type": "code",
   "execution_count": 58,
   "id": "63951824",
   "metadata": {},
   "outputs": [
    {
     "data": {
      "text/plain": [
       "303    8.55\n",
       "349    8.04\n",
       "149    8.26\n",
       "100    8.46\n",
       "175    8.87\n",
       "       ... \n",
       "369    8.03\n",
       "320    8.50\n",
       "15     8.30\n",
       "125    8.66\n",
       "265    8.68\n",
       "Name: CGPA, Length: 320, dtype: float64"
      ]
     },
     "execution_count": 58,
     "metadata": {},
     "output_type": "execute_result"
    }
   ],
   "source": [
    "x_train"
   ]
  },
  {
   "cell_type": "code",
   "execution_count": 59,
   "id": "ae3d5046",
   "metadata": {},
   "outputs": [
    {
     "data": {
      "text/plain": [
       "303    0.73\n",
       "349    0.62\n",
       "149    0.79\n",
       "100    0.71\n",
       "175    0.85\n",
       "       ... \n",
       "369    0.67\n",
       "320    0.75\n",
       "15     0.54\n",
       "125    0.64\n",
       "265    0.71\n",
       "Name: ChanceofAdmit , Length: 320, dtype: float64"
      ]
     },
     "execution_count": 59,
     "metadata": {},
     "output_type": "execute_result"
    }
   ],
   "source": [
    "y_train"
   ]
  },
  {
   "cell_type": "markdown",
   "id": "abe2c152",
   "metadata": {},
   "source": [
    "### 4. Model Building\n",
    "There are many libraries used to build the linear regression model in python. Here we are using statsmodels."
   ]
  },
  {
   "cell_type": "code",
   "execution_count": 60,
   "id": "14928203",
   "metadata": {},
   "outputs": [],
   "source": [
    "import statsmodels.api as lm\n",
    "x_train_lm=lm.add_constant(x_train)"
   ]
  },
  {
   "cell_type": "code",
   "execution_count": 61,
   "id": "e8c075ac",
   "metadata": {},
   "outputs": [],
   "source": [
    "model=lm.OLS(y_train,x_train_lm).fit()"
   ]
  },
  {
   "cell_type": "code",
   "execution_count": 62,
   "id": "305a9a26",
   "metadata": {},
   "outputs": [
    {
     "data": {
      "text/plain": [
       "const   -1.093405\n",
       "CGPA     0.211488\n",
       "dtype: float64"
      ]
     },
     "execution_count": 62,
     "metadata": {},
     "output_type": "execute_result"
    }
   ],
   "source": [
    "# Here, we print the parameter estimates\n",
    "model.params "
   ]
  },
  {
   "cell_type": "code",
   "execution_count": 63,
   "id": "b108eb3a",
   "metadata": {},
   "outputs": [
    {
     "data": {
      "text/html": [
       "<table class=\"simpletable\">\n",
       "<caption>OLS Regression Results</caption>\n",
       "<tr>\n",
       "  <th>Dep. Variable:</th>     <td>ChanceofAdmit </td>  <th>  R-squared:         </th> <td>   0.776</td> \n",
       "</tr>\n",
       "<tr>\n",
       "  <th>Model:</th>                   <td>OLS</td>       <th>  Adj. R-squared:    </th> <td>   0.775</td> \n",
       "</tr>\n",
       "<tr>\n",
       "  <th>Method:</th>             <td>Least Squares</td>  <th>  F-statistic:       </th> <td>   1100.</td> \n",
       "</tr>\n",
       "<tr>\n",
       "  <th>Date:</th>             <td>Sun, 05 Feb 2023</td> <th>  Prob (F-statistic):</th> <td>3.01e-105</td>\n",
       "</tr>\n",
       "<tr>\n",
       "  <th>Time:</th>                 <td>13:12:37</td>     <th>  Log-Likelihood:    </th> <td>  404.52</td> \n",
       "</tr>\n",
       "<tr>\n",
       "  <th>No. Observations:</th>      <td>   320</td>      <th>  AIC:               </th> <td>  -805.0</td> \n",
       "</tr>\n",
       "<tr>\n",
       "  <th>Df Residuals:</th>          <td>   318</td>      <th>  BIC:               </th> <td>  -797.5</td> \n",
       "</tr>\n",
       "<tr>\n",
       "  <th>Df Model:</th>              <td>     1</td>      <th>                     </th>     <td> </td>    \n",
       "</tr>\n",
       "<tr>\n",
       "  <th>Covariance Type:</th>      <td>nonrobust</td>    <th>                     </th>     <td> </td>    \n",
       "</tr>\n",
       "</table>\n",
       "<table class=\"simpletable\">\n",
       "<tr>\n",
       "    <td></td>       <th>coef</th>     <th>std err</th>      <th>t</th>      <th>P>|t|</th>  <th>[0.025</th>    <th>0.975]</th>  \n",
       "</tr>\n",
       "<tr>\n",
       "  <th>const</th> <td>   -1.0934</td> <td>    0.055</td> <td>  -19.923</td> <td> 0.000</td> <td>   -1.201</td> <td>   -0.985</td>\n",
       "</tr>\n",
       "<tr>\n",
       "  <th>CGPA</th>  <td>    0.2115</td> <td>    0.006</td> <td>   33.165</td> <td> 0.000</td> <td>    0.199</td> <td>    0.224</td>\n",
       "</tr>\n",
       "</table>\n",
       "<table class=\"simpletable\">\n",
       "<tr>\n",
       "  <th>Omnibus:</th>       <td>50.682</td> <th>  Durbin-Watson:     </th> <td>   1.867</td>\n",
       "</tr>\n",
       "<tr>\n",
       "  <th>Prob(Omnibus):</th> <td> 0.000</td> <th>  Jarque-Bera (JB):  </th> <td>  80.658</td>\n",
       "</tr>\n",
       "<tr>\n",
       "  <th>Skew:</th>          <td>-0.942</td> <th>  Prob(JB):          </th> <td>3.06e-18</td>\n",
       "</tr>\n",
       "<tr>\n",
       "  <th>Kurtosis:</th>      <td> 4.582</td> <th>  Cond. No.          </th> <td>    125.</td>\n",
       "</tr>\n",
       "</table><br/><br/>Notes:<br/>[1] Standard Errors assume that the covariance matrix of the errors is correctly specified."
      ],
      "text/plain": [
       "<class 'statsmodels.iolib.summary.Summary'>\n",
       "\"\"\"\n",
       "                            OLS Regression Results                            \n",
       "==============================================================================\n",
       "Dep. Variable:         ChanceofAdmit    R-squared:                       0.776\n",
       "Model:                            OLS   Adj. R-squared:                  0.775\n",
       "Method:                 Least Squares   F-statistic:                     1100.\n",
       "Date:                Sun, 05 Feb 2023   Prob (F-statistic):          3.01e-105\n",
       "Time:                        13:12:37   Log-Likelihood:                 404.52\n",
       "No. Observations:                 320   AIC:                            -805.0\n",
       "Df Residuals:                     318   BIC:                            -797.5\n",
       "Df Model:                           1                                         \n",
       "Covariance Type:            nonrobust                                         \n",
       "==============================================================================\n",
       "                 coef    std err          t      P>|t|      [0.025      0.975]\n",
       "------------------------------------------------------------------------------\n",
       "const         -1.0934      0.055    -19.923      0.000      -1.201      -0.985\n",
       "CGPA           0.2115      0.006     33.165      0.000       0.199       0.224\n",
       "==============================================================================\n",
       "Omnibus:                       50.682   Durbin-Watson:                   1.867\n",
       "Prob(Omnibus):                  0.000   Jarque-Bera (JB):               80.658\n",
       "Skew:                          -0.942   Prob(JB):                     3.06e-18\n",
       "Kurtosis:                       4.582   Cond. No.                         125.\n",
       "==============================================================================\n",
       "\n",
       "Notes:\n",
       "[1] Standard Errors assume that the covariance matrix of the errors is correctly specified.\n",
       "\"\"\""
      ]
     },
     "execution_count": 63,
     "metadata": {},
     "output_type": "execute_result"
    }
   ],
   "source": [
    "model.summary()"
   ]
  },
  {
   "cell_type": "markdown",
   "id": "0792db6f",
   "metadata": {},
   "source": [
    "The summary of the model is obtained using the function *summary()*.\n",
    "\n",
    "An R- square result which range from 0.70 to 1.00 indicates that the model explains the output well. Here, the adjusted value is 0.775, which means that 77.5% of the *Chance of admission* is explained by the variable *CGPA*. Durbin-Watson test is to check the autocorrelation (correlation of error terms). No autocorrelation is implied by a value of 2, below 2 is positive correlation and above 2 is negative correlation. Here, we can see it is below 2, which indicates positive correlation."
   ]
  },
  {
   "cell_type": "markdown",
   "id": "6cbb3aec",
   "metadata": {},
   "source": [
    "#### Visualizing the fitted line to the train data"
   ]
  },
  {
   "cell_type": "code",
   "execution_count": 64,
   "id": "883df32c",
   "metadata": {},
   "outputs": [
    {
     "data": {
      "image/png": "[encoded data removed]",
      "text/plain": [
       "<Figure size 842.4x595.44 with 1 Axes>"
      ]
     },
     "metadata": {},
     "output_type": "display_data"
    }
   ],
   "source": [
    "import matplotlib.pyplot as plt\n",
    "plt.scatter(x_train, y_train)\n",
    "plt.plot(x_train, -1.0934 + 0.2115*x_train, 'r')\n",
    "plt.show()"
   ]
  },
  {
   "cell_type": "markdown",
   "id": "b4f4cc07",
   "metadata": {},
   "source": [
    "Here, the redline is the fitted regression line (*Chance of admission* = -1.0934 + 0.2115*CGPA*) for the training data."
   ]
  },
  {
   "cell_type": "markdown",
   "id": "8fd22c99",
   "metadata": {},
   "source": [
    "#### Prediction using test data set"
   ]
  },
  {
   "cell_type": "code",
   "execution_count": 65,
   "id": "08065ceb",
   "metadata": {},
   "outputs": [
    {
     "data": {
      "text/plain": [
       "332    0.642907\n",
       "111    0.742306\n",
       "352    0.611184\n",
       "205    0.524474\n",
       "56     0.471602\n",
       "         ...   \n",
       "304    0.689435\n",
       "187    0.903037\n",
       "166    0.668286\n",
       "64     0.746536\n",
       "27     0.492751\n",
       "Length: 80, dtype: float64"
      ]
     },
     "execution_count": 65,
     "metadata": {},
     "output_type": "execute_result"
    }
   ],
   "source": [
    "x_test_lm = lm.add_constant(x_test)\n",
    "y_test_pred = model.predict(x_test_lm)\n",
    "y_test_pred"
   ]
  },
  {
   "cell_type": "code",
   "execution_count": 66,
   "id": "4450cbba",
   "metadata": {},
   "outputs": [
    {
     "data": {
      "text/plain": [
       "0.7000956087636854"
      ]
     },
     "execution_count": 66,
     "metadata": {},
     "output_type": "execute_result"
    }
   ],
   "source": [
    "from sklearn.metrics import r2_score\n",
    "r_squared = r2_score(y_test, y_test_pred)\n",
    "r_squared"
   ]
  },
  {
   "cell_type": "markdown",
   "id": "0219c1f4",
   "metadata": {},
   "source": [
    "Here, we can say that the 70% of the *Chance of admission* is explained by the variable *CGPA* in the test data set."
   ]
  },
  {
   "cell_type": "code",
   "execution_count": 67,
   "id": "0ab9d9c7",
   "metadata": {},
   "outputs": [
    {
     "data": {
      "image/png": "[encoded data removed]",
      "text/plain": [
       "<Figure size 842.4x595.44 with 1 Axes>"
      ]
     },
     "metadata": {},
     "output_type": "display_data"
    }
   ],
   "source": [
    "plt.scatter(x_test, y_test)\n",
    "plt.plot(x_test, y_test_pred, 'r')\n",
    "plt.show()"
   ]
  },
  {
   "cell_type": "markdown",
   "id": "45e8b176",
   "metadata": {},
   "source": [
    "Here, the redline is the fitted line for the test data set."
   ]
  },
  {
   "cell_type": "markdown",
   "id": "ad09a315",
   "metadata": {},
   "source": [
    "### 5. CONCLUSION\n",
    "\n",
    "It was found that the R- square value for the train data was 0.776 and R- square value of the test data was 0.70. \n",
    "Therefore, we can see that around 70% of chance of getting admission into the univeristy depends on CGPA score and the rest depends on other factors like SOP, researches done etc. We can say that CGPA has considerable influence in getting admission into the university. Also, the students should be encouraged to be involved in other extra-curricular activities so as to improve their soft skills and thereby increase the chance of getting admitted.\n"
   ]
  }
 ],
 "metadata": {
  "kernelspec": {
   "display_name": "Python 3 (ipykernel)",
   "language": "python",
   "name": "python3"
  },
  "language_info": {
   "codemirror_mode": {
    "name": "ipython",
    "version": 3
   },
   "file_extension": ".py",
   "mimetype": "text/x-python",
   "name": "python",
   "nbconvert_exporter": "python",
   "pygments_lexer": "ipython3",
   "version": "3.9.12"
  }
 },
 "nbformat": 4,
 "nbformat_minor": 5
}
